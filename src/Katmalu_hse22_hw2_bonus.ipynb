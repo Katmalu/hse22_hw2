{
  "nbformat": 4,
  "nbformat_minor": 0,
  "metadata": {
    "colab": {
      "provenance": [],
      "include_colab_link": true
    },
    "kernelspec": {
      "name": "python3",
      "display_name": "Python 3"
    },
    "language_info": {
      "name": "python"
    }
  },
  "cells": [
    {
      "cell_type": "markdown",
      "metadata": {
        "id": "view-in-github",
        "colab_type": "text"
      },
      "source": [
        "<a href=\"https://colab.research.google.com/github/Katmalu/hse22_hw2/blob/main/src/Katmalu_hse22_hw2_bonus.ipynb\" target=\"_parent\"><img src=\"https://colab.research.google.com/assets/colab-badge.svg\" alt=\"Open In Colab\"/></a>"
      ]
    },
    {
      "cell_type": "markdown",
      "source": [
        "# Скачивание файлов близкородственной бактерии"
      ],
      "metadata": {
        "id": "9l4mfp8udffD"
      }
    },
    {
      "cell_type": "code",
      "execution_count": null,
      "metadata": {
        "colab": {
          "base_uri": "https://localhost:8080/"
        },
        "id": "bGAKTNXRdDCt",
        "outputId": "bd205f7a-8018-44ce-cb77-16b9ed6718d1"
      },
      "outputs": [
        {
          "output_type": "stream",
          "name": "stdout",
          "text": [
            "\n",
            "Entrez Direct has been successfully downloaded and installed.\n",
            "\n",
            "In order to complete the configuration process, please execute the following:\n",
            "\n",
            "  echo \"export PATH=\\${PATH}:/root/edirect\" >> ${HOME}/.bashrc\n",
            "\n",
            "or manually edit the PATH variable assignment in your .bashrc file.\n",
            "\n",
            "Would you like to do that automatically now? [y/N]\n",
            "y\n",
            "OK, done.\n",
            "\n",
            "To activate EDirect for this terminal session, please execute the following:\n",
            "\n",
            "export PATH=${PATH}:${HOME}/edirect\n",
            "\n"
          ]
        }
      ],
      "source": [
        "!sh -c \"$(curl -fsSL ftp://ftp.ncbi.nlm.nih.gov/entrez/entrezdirect/install-edirect.sh)\""
      ]
    },
    {
      "cell_type": "code",
      "source": [
        "!$HOME/edirect/efetch -db nuccore -id HF680312 -format gb  >  T_oleivorans_MIL_1.gbk"
      ],
      "metadata": {
        "id": "tdiKn0-mduZ-"
      },
      "execution_count": null,
      "outputs": []
    },
    {
      "cell_type": "markdown",
      "source": [
        "# Установка програм "
      ],
      "metadata": {
        "id": "GxMG_d0Pd3lc"
      }
    },
    {
      "cell_type": "code",
      "source": [
        "!pip install biopython"
      ],
      "metadata": {
        "colab": {
          "base_uri": "https://localhost:8080/"
        },
        "id": "MhDe8g4Md1xI",
        "outputId": "e75b1de7-af85-4965-9162-2d7f835b9da9"
      },
      "execution_count": null,
      "outputs": [
        {
          "output_type": "stream",
          "name": "stdout",
          "text": [
            "Looking in indexes: https://pypi.org/simple, https://us-python.pkg.dev/colab-wheels/public/simple/\n",
            "Collecting biopython\n",
            "  Downloading biopython-1.79-cp37-cp37m-manylinux_2_17_x86_64.manylinux2014_x86_64.whl (2.6 MB)\n",
            "\u001b[K     |████████████████████████████████| 2.6 MB 28.2 MB/s \n",
            "\u001b[?25hRequirement already satisfied: numpy in /usr/local/lib/python3.7/dist-packages (from biopython) (1.21.6)\n",
            "Installing collected packages: biopython\n",
            "Successfully installed biopython-1.79\n"
          ]
        }
      ]
    },
    {
      "cell_type": "code",
      "source": [
        "!apt-get update"
      ],
      "metadata": {
        "colab": {
          "base_uri": "https://localhost:8080/"
        },
        "id": "0pMmDNhreA33",
        "outputId": "bd0c7ca9-3e5e-48ab-a0bc-021a5777f213"
      },
      "execution_count": null,
      "outputs": [
        {
          "output_type": "stream",
          "name": "stdout",
          "text": [
            "\r0% [Working]\r            \rGet:1 https://cloud.r-project.org/bin/linux/ubuntu bionic-cran40/ InRelease [3,626 B]\n",
            "\r0% [Waiting for headers] [Waiting for headers] [1 InRelease 0 B/3,626 B 0%] [Wa\r0% [Waiting for headers] [Waiting for headers] [Waiting for headers] [Waiting f\r0% [1 InRelease gpgv 3,626 B] [Waiting for headers] [Waiting for headers] [Wait\r                                                                               \rGet:2 http://security.ubuntu.com/ubuntu bionic-security InRelease [88.7 kB]\n",
            "\r                                                                               \rHit:3 http://ppa.launchpad.net/c2d4u.team/c2d4u4.0+/ubuntu bionic InRelease\n",
            "Hit:4 http://archive.ubuntu.com/ubuntu bionic InRelease\n",
            "Get:5 http://archive.ubuntu.com/ubuntu bionic-updates InRelease [88.7 kB]\n",
            "Hit:6 http://ppa.launchpad.net/cran/libgit2/ubuntu bionic InRelease\n",
            "Ign:7 https://developer.download.nvidia.com/compute/machine-learning/repos/ubuntu1804/x86_64  InRelease\n",
            "Get:8 https://developer.download.nvidia.com/compute/cuda/repos/ubuntu1804/x86_64  InRelease [1,581 B]\n",
            "Hit:9 https://developer.download.nvidia.com/compute/machine-learning/repos/ubuntu1804/x86_64  Release\n",
            "Hit:10 http://ppa.launchpad.net/deadsnakes/ppa/ubuntu bionic InRelease\n",
            "Get:11 http://archive.ubuntu.com/ubuntu bionic-backports InRelease [83.3 kB]\n",
            "Hit:12 http://ppa.launchpad.net/graphics-drivers/ppa/ubuntu bionic InRelease\n",
            "Get:13 http://security.ubuntu.com/ubuntu bionic-security/universe amd64 Packages [1,554 kB]\n",
            "Get:14 https://developer.download.nvidia.com/compute/cuda/repos/ubuntu1804/x86_64  Packages [985 kB]\n",
            "Get:15 http://archive.ubuntu.com/ubuntu bionic-updates/universe amd64 Packages [2,332 kB]\n",
            "Get:16 http://security.ubuntu.com/ubuntu bionic-security/main amd64 Packages [3,035 kB]\n",
            "Get:18 http://archive.ubuntu.com/ubuntu bionic-updates/main amd64 Packages [3,467 kB]\n",
            "Fetched 11.6 MB in 2s (4,915 kB/s)\n",
            "Reading package lists... Done\n"
          ]
        }
      ]
    },
    {
      "cell_type": "code",
      "source": [
        "!apt-get install ncbi-blast+"
      ],
      "metadata": {
        "colab": {
          "base_uri": "https://localhost:8080/"
        },
        "id": "XPD8s3DbeC5B",
        "outputId": "da9b2ea7-9369-4377-afeb-26d68f00e36c"
      },
      "execution_count": null,
      "outputs": [
        {
          "output_type": "stream",
          "name": "stdout",
          "text": [
            "Reading package lists... Done\n",
            "Building dependency tree       \n",
            "Reading state information... Done\n",
            "The following package was automatically installed and is no longer required:\n",
            "  libnvidia-common-460\n",
            "Use 'apt autoremove' to remove it.\n",
            "The following additional packages will be installed:\n",
            "  ncbi-data\n",
            "The following NEW packages will be installed:\n",
            "  ncbi-blast+ ncbi-data\n",
            "0 upgraded, 2 newly installed, 0 to remove and 27 not upgraded.\n",
            "Need to get 13.1 MB of archives.\n",
            "After this operation, 66.7 MB of additional disk space will be used.\n",
            "Get:1 http://archive.ubuntu.com/ubuntu bionic/universe amd64 ncbi-data all 6.1.20170106-2 [3,645 kB]\n",
            "Get:2 http://archive.ubuntu.com/ubuntu bionic/universe amd64 ncbi-blast+ amd64 2.6.0-1 [9,446 kB]\n",
            "Fetched 13.1 MB in 1s (11.7 MB/s)\n",
            "Selecting previously unselected package ncbi-data.\n",
            "(Reading database ... 123942 files and directories currently installed.)\n",
            "Preparing to unpack .../ncbi-data_6.1.20170106-2_all.deb ...\n",
            "Unpacking ncbi-data (6.1.20170106-2) ...\n",
            "Selecting previously unselected package ncbi-blast+.\n",
            "Preparing to unpack .../ncbi-blast+_2.6.0-1_amd64.deb ...\n",
            "Unpacking ncbi-blast+ (2.6.0-1) ...\n",
            "Setting up ncbi-data (6.1.20170106-2) ...\n",
            "Setting up ncbi-blast+ (2.6.0-1) ...\n",
            "Processing triggers for hicolor-icon-theme (0.17-2) ...\n",
            "Processing triggers for man-db (2.8.3-2ubuntu0.1) ...\n"
          ]
        }
      ]
    },
    {
      "cell_type": "code",
      "source": [
        "!blastn -help"
      ],
      "metadata": {
        "colab": {
          "base_uri": "https://localhost:8080/"
        },
        "id": "EbJLs3ZteTv2",
        "outputId": "abc3e3c1-1716-46f3-af10-9b331aefca5e"
      },
      "execution_count": null,
      "outputs": [
        {
          "output_type": "stream",
          "name": "stdout",
          "text": [
            "USAGE\n",
            "  blastn [-h] [-help] [-import_search_strategy filename]\n",
            "    [-export_search_strategy filename] [-task task_name] [-db database_name]\n",
            "    [-dbsize num_letters] [-gilist filename] [-seqidlist filename]\n",
            "    [-negative_gilist filename] [-entrez_query entrez_query]\n",
            "    [-db_soft_mask filtering_algorithm] [-db_hard_mask filtering_algorithm]\n",
            "    [-subject subject_input_file] [-subject_loc range] [-query input_file]\n",
            "    [-out output_file] [-evalue evalue] [-word_size int_value]\n",
            "    [-gapopen open_penalty] [-gapextend extend_penalty]\n",
            "    [-perc_identity float_value] [-qcov_hsp_perc float_value]\n",
            "    [-max_hsps int_value] [-xdrop_ungap float_value] [-xdrop_gap float_value]\n",
            "    [-xdrop_gap_final float_value] [-searchsp int_value]\n",
            "    [-sum_stats bool_value] [-penalty penalty] [-reward reward] [-no_greedy]\n",
            "    [-min_raw_gapped_score int_value] [-template_type type]\n",
            "    [-template_length int_value] [-dust DUST_options]\n",
            "    [-filtering_db filtering_database]\n",
            "    [-window_masker_taxid window_masker_taxid]\n",
            "    [-window_masker_db window_masker_db] [-soft_masking soft_masking]\n",
            "    [-ungapped] [-culling_limit int_value] [-best_hit_overhang float_value]\n",
            "    [-best_hit_score_edge float_value] [-window_size int_value]\n",
            "    [-off_diagonal_range int_value] [-use_index boolean] [-index_name string]\n",
            "    [-lcase_masking] [-query_loc range] [-strand strand] [-parse_deflines]\n",
            "    [-outfmt format] [-show_gis] [-num_descriptions int_value]\n",
            "    [-num_alignments int_value] [-line_length line_length] [-html]\n",
            "    [-max_target_seqs num_sequences] [-num_threads int_value] [-remote]\n",
            "    [-version]\n",
            "\n",
            "DESCRIPTION\n",
            "   Nucleotide-Nucleotide BLAST 2.6.0+\n",
            "\n",
            "OPTIONAL ARGUMENTS\n",
            " -h\n",
            "   Print USAGE and DESCRIPTION;  ignore all other parameters\n",
            " -help\n",
            "   Print USAGE, DESCRIPTION and ARGUMENTS; ignore all other parameters\n",
            " -version\n",
            "   Print version number;  ignore other arguments\n",
            "\n",
            " *** Input query options\n",
            " -query <File_In>\n",
            "   Input file name\n",
            "   Default = `-'\n",
            " -query_loc <String>\n",
            "   Location on the query sequence in 1-based offsets (Format: start-stop)\n",
            " -strand <String, `both', `minus', `plus'>\n",
            "   Query strand(s) to search against database/subject\n",
            "   Default = `both'\n",
            "\n",
            " *** General search options\n",
            " -task <String, Permissible values: 'blastn' 'blastn-short' 'dc-megablast'\n",
            "                'megablast' 'rmblastn' >\n",
            "   Task to execute\n",
            "   Default = `megablast'\n",
            " -db <String>\n",
            "   BLAST database name\n",
            "    * Incompatible with:  subject, subject_loc\n",
            " -out <File_Out>\n",
            "   Output file name\n",
            "   Default = `-'\n",
            " -evalue <Real>\n",
            "   Expectation value (E) threshold for saving hits \n",
            "   Default = `10'\n",
            " -word_size <Integer, >=4>\n",
            "   Word size for wordfinder algorithm (length of best perfect match)\n",
            " -gapopen <Integer>\n",
            "   Cost to open a gap\n",
            " -gapextend <Integer>\n",
            "   Cost to extend a gap\n",
            " -penalty <Integer, <=0>\n",
            "   Penalty for a nucleotide mismatch\n",
            " -reward <Integer, >=0>\n",
            "   Reward for a nucleotide match\n",
            " -use_index <Boolean>\n",
            "   Use MegaBLAST database index\n",
            "   Default = `false'\n",
            " -index_name <String>\n",
            "   MegaBLAST database index name (deprecated; use only for old style indices)\n",
            "\n",
            " *** BLAST-2-Sequences options\n",
            " -subject <File_In>\n",
            "   Subject sequence(s) to search\n",
            "    * Incompatible with:  db, gilist, seqidlist, negative_gilist,\n",
            "   db_soft_mask, db_hard_mask\n",
            " -subject_loc <String>\n",
            "   Location on the subject sequence in 1-based offsets (Format: start-stop)\n",
            "    * Incompatible with:  db, gilist, seqidlist, negative_gilist,\n",
            "   db_soft_mask, db_hard_mask, remote\n",
            "\n",
            " *** Formatting options\n",
            " -outfmt <String>\n",
            "   alignment view options:\n",
            "     0 = Pairwise,\n",
            "     1 = Query-anchored showing identities,\n",
            "     2 = Query-anchored no identities,\n",
            "     3 = Flat query-anchored showing identities,\n",
            "     4 = Flat query-anchored no identities,\n",
            "     5 = BLAST XML,\n",
            "     6 = Tabular,\n",
            "     7 = Tabular with comment lines,\n",
            "     8 = Seqalign (Text ASN.1),\n",
            "     9 = Seqalign (Binary ASN.1),\n",
            "    10 = Comma-separated values,\n",
            "    11 = BLAST archive (ASN.1),\n",
            "    12 = Seqalign (JSON),\n",
            "    13 = Multiple-file BLAST JSON,\n",
            "    14 = Multiple-file BLAST XML2,\n",
            "    15 = Single-file BLAST JSON,\n",
            "    16 = Single-file BLAST XML2,\n",
            "    17 = Sequence Alignment/Map (SAM),\n",
            "    18 = Organism Report\n",
            "   \n",
            "   Options 6, 7, 10 and 17 can be additionally configured to produce\n",
            "   a custom format specified by space delimited format specifiers.\n",
            "   The supported format specifiers for options 6, 7 and 10 are:\n",
            "   \t    qseqid means Query Seq-id\n",
            "   \t       qgi means Query GI\n",
            "   \t      qacc means Query accesion\n",
            "   \t   qaccver means Query accesion.version\n",
            "   \t      qlen means Query sequence length\n",
            "   \t    sseqid means Subject Seq-id\n",
            "   \t sallseqid means All subject Seq-id(s), separated by a ';'\n",
            "   \t       sgi means Subject GI\n",
            "   \t    sallgi means All subject GIs\n",
            "   \t      sacc means Subject accession\n",
            "   \t   saccver means Subject accession.version\n",
            "   \t   sallacc means All subject accessions\n",
            "   \t      slen means Subject sequence length\n",
            "   \t    qstart means Start of alignment in query\n",
            "   \t      qend means End of alignment in query\n",
            "   \t    sstart means Start of alignment in subject\n",
            "   \t      send means End of alignment in subject\n",
            "   \t      qseq means Aligned part of query sequence\n",
            "   \t      sseq means Aligned part of subject sequence\n",
            "   \t    evalue means Expect value\n",
            "   \t  bitscore means Bit score\n",
            "   \t     score means Raw score\n",
            "   \t    length means Alignment length\n",
            "   \t    pident means Percentage of identical matches\n",
            "   \t    nident means Number of identical matches\n",
            "   \t  mismatch means Number of mismatches\n",
            "   \t  positive means Number of positive-scoring matches\n",
            "   \t   gapopen means Number of gap openings\n",
            "   \t      gaps means Total number of gaps\n",
            "   \t      ppos means Percentage of positive-scoring matches\n",
            "   \t    frames means Query and subject frames separated by a '/'\n",
            "   \t    qframe means Query frame\n",
            "   \t    sframe means Subject frame\n",
            "   \t      btop means Blast traceback operations (BTOP)\n",
            "   \t    staxid means Subject Taxonomy ID\n",
            "   \t  ssciname means Subject Scientific Name\n",
            "   \t  scomname means Subject Common Name\n",
            "   \tsblastname means Subject Blast Name\n",
            "   \t sskingdom means Subject Super Kingdom\n",
            "   \t   staxids means unique Subject Taxonomy ID(s), separated by a ';'\n",
            "   \t\t\t (in numerical order)\n",
            "   \t sscinames means unique Subject Scientific Name(s), separated by a ';'\n",
            "   \t scomnames means unique Subject Common Name(s), separated by a ';'\n",
            "   \tsblastnames means unique Subject Blast Name(s), separated by a ';'\n",
            "   \t\t\t (in alphabetical order)\n",
            "   \tsskingdoms means unique Subject Super Kingdom(s), separated by a ';'\n",
            "   \t\t\t (in alphabetical order) \n",
            "   \t    stitle means Subject Title\n",
            "   \tsalltitles means All Subject Title(s), separated by a '<>'\n",
            "   \t   sstrand means Subject Strand\n",
            "   \t     qcovs means Query Coverage Per Subject\n",
            "   \t   qcovhsp means Query Coverage Per HSP\n",
            "   \t    qcovus means Query Coverage Per Unique Subject (blastn only)\n",
            "   When not provided, the default value is:\n",
            "   'qaccver saccver pident length mismatch gapopen qstart qend sstart send\n",
            "   evalue bitscore', which is equivalent to the keyword 'std'\n",
            "   The supported format specifier for option 17 is:\n",
            "   \t        SQ means Include Sequence Data\n",
            "   \t        SR means Subject as Reference Seq\n",
            "   Default = `0'\n",
            " -show_gis\n",
            "   Show NCBI GIs in deflines?\n",
            " -num_descriptions <Integer, >=0>\n",
            "   Number of database sequences to show one-line descriptions for\n",
            "   Not applicable for outfmt > 4\n",
            "   Default = `500'\n",
            "    * Incompatible with:  max_target_seqs\n",
            " -num_alignments <Integer, >=0>\n",
            "   Number of database sequences to show alignments for\n",
            "   Default = `250'\n",
            "    * Incompatible with:  max_target_seqs\n",
            " -line_length <Integer, >=1>\n",
            "   Line length for formatting alignments\n",
            "   Not applicable for outfmt > 4\n",
            "   Default = `60'\n",
            " -html\n",
            "   Produce HTML output?\n",
            "\n",
            " *** Query filtering options\n",
            " -dust <String>\n",
            "   Filter query sequence with DUST (Format: 'yes', 'level window linker', or\n",
            "   'no' to disable)\n",
            "   Default = `20 64 1'\n",
            " -filtering_db <String>\n",
            "   BLAST database containing filtering elements (i.e.: repeats)\n",
            " -window_masker_taxid <Integer>\n",
            "   Enable WindowMasker filtering using a Taxonomic ID\n",
            " -window_masker_db <String>\n",
            "   Enable WindowMasker filtering using this repeats database.\n",
            " -soft_masking <Boolean>\n",
            "   Apply filtering locations as soft masks\n",
            "   Default = `true'\n",
            " -lcase_masking\n",
            "   Use lower case filtering in query and subject sequence(s)?\n",
            "\n",
            " *** Restrict search or results\n",
            " -gilist <String>\n",
            "   Restrict search of database to list of GI's\n",
            "    * Incompatible with:  negative_gilist, seqidlist, remote, subject,\n",
            "   subject_loc\n",
            " -seqidlist <String>\n",
            "   Restrict search of database to list of SeqId's\n",
            "    * Incompatible with:  gilist, negative_gilist, remote, subject,\n",
            "   subject_loc\n",
            " -negative_gilist <String>\n",
            "   Restrict search of database to everything except the listed GIs\n",
            "    * Incompatible with:  gilist, seqidlist, remote, subject, subject_loc\n",
            " -entrez_query <String>\n",
            "   Restrict search with the given Entrez query\n",
            "    * Requires:  remote\n",
            " -db_soft_mask <String>\n",
            "   Filtering algorithm ID to apply to the BLAST database as soft masking\n",
            "    * Incompatible with:  db_hard_mask, subject, subject_loc\n",
            " -db_hard_mask <String>\n",
            "   Filtering algorithm ID to apply to the BLAST database as hard masking\n",
            "    * Incompatible with:  db_soft_mask, subject, subject_loc\n",
            " -perc_identity <Real, 0..100>\n",
            "   Percent identity\n",
            " -qcov_hsp_perc <Real, 0..100>\n",
            "   Percent query coverage per hsp\n",
            " -max_hsps <Integer, >=1>\n",
            "   Set maximum number of HSPs per subject sequence to save for each query\n",
            " -culling_limit <Integer, >=0>\n",
            "   If the query range of a hit is enveloped by that of at least this many\n",
            "   higher-scoring hits, delete the hit\n",
            "    * Incompatible with:  best_hit_overhang, best_hit_score_edge\n",
            " -best_hit_overhang <Real, (>0 and <0.5)>\n",
            "   Best Hit algorithm overhang value (recommended value: 0.1)\n",
            "    * Incompatible with:  culling_limit\n",
            " -best_hit_score_edge <Real, (>0 and <0.5)>\n",
            "   Best Hit algorithm score edge value (recommended value: 0.1)\n",
            "    * Incompatible with:  culling_limit\n",
            " -max_target_seqs <Integer, >=1>\n",
            "   Maximum number of aligned sequences to keep \n",
            "   Not applicable for outfmt <= 4\n",
            "   Default = `500'\n",
            "    * Incompatible with:  num_descriptions, num_alignments\n",
            "\n",
            " *** Discontiguous MegaBLAST options\n",
            " -template_type <String, `coding', `coding_and_optimal', `optimal'>\n",
            "   Discontiguous MegaBLAST template type\n",
            "    * Requires:  template_length\n",
            " -template_length <Integer, Permissible values: '16' '18' '21' >\n",
            "   Discontiguous MegaBLAST template length\n",
            "    * Requires:  template_type\n",
            "\n",
            " *** Statistical options\n",
            " -dbsize <Int8>\n",
            "   Effective length of the database \n",
            " -searchsp <Int8, >=0>\n",
            "   Effective length of the search space\n",
            " -sum_stats <Boolean>\n",
            "   Use sum statistics\n",
            "\n",
            " *** Search strategy options\n",
            " -import_search_strategy <File_In>\n",
            "   Search strategy to use\n",
            "    * Incompatible with:  export_search_strategy\n",
            " -export_search_strategy <File_Out>\n",
            "   File name to record the search strategy used\n",
            "    * Incompatible with:  import_search_strategy\n",
            "\n",
            " *** Extension options\n",
            " -xdrop_ungap <Real>\n",
            "   X-dropoff value (in bits) for ungapped extensions\n",
            " -xdrop_gap <Real>\n",
            "   X-dropoff value (in bits) for preliminary gapped extensions\n",
            " -xdrop_gap_final <Real>\n",
            "   X-dropoff value (in bits) for final gapped alignment\n",
            " -no_greedy\n",
            "   Use non-greedy dynamic programming extension\n",
            " -min_raw_gapped_score <Integer>\n",
            "   Minimum raw gapped score to keep an alignment in the preliminary gapped and\n",
            "   traceback stages\n",
            " -ungapped\n",
            "   Perform ungapped alignment only?\n",
            " -window_size <Integer, >=0>\n",
            "   Multiple hits window size, use 0 to specify 1-hit algorithm\n",
            " -off_diagonal_range <Integer, >=0>\n",
            "   Number of off-diagonals to search for the 2nd hit, use 0 to turn off\n",
            "   Default = `0'\n",
            "\n",
            " *** Miscellaneous options\n",
            " -parse_deflines\n",
            "   Should the query and subject defline(s) be parsed?\n",
            " -num_threads <Integer, >=1>\n",
            "   Number of threads (CPUs) to use in the BLAST search\n",
            "   Default = `1'\n",
            "    * Incompatible with:  remote\n",
            " -remote\n",
            "   Execute search remotely?\n",
            "    * Incompatible with:  gilist, seqidlist, negative_gilist, subject_loc,\n",
            "   num_threads\n",
            "\n"
          ]
        }
      ]
    },
    {
      "cell_type": "markdown",
      "source": [
        "Прочитать подробнее можно тут https://www.ncbi.nlm.nih.gov/books/NBK279690/ "
      ],
      "metadata": {
        "id": "fJL5gxFlhnw7"
      }
    },
    {
      "cell_type": "markdown",
      "source": [
        "# Предсказание рибосомальной рнк"
      ],
      "metadata": {
        "id": "w5_RP4Yafn_i"
      }
    },
    {
      "cell_type": "code",
      "source": [
        "from Bio import SeqIO\n",
        "from Bio.SeqFeature import SeqFeature, FeatureLocation\n",
        "from Bio.SeqRecord import SeqRecord"
      ],
      "metadata": {
        "id": "lri3l1xhuz4C"
      },
      "execution_count": null,
      "outputs": []
    },
    {
      "cell_type": "code",
      "source": [
        "genome = SeqIO.read(\"/content/T_oleivorans_MIL_1.gbk\", \"genbank\")"
      ],
      "metadata": {
        "id": "6vvOPEcZuxLw"
      },
      "execution_count": null,
      "outputs": []
    },
    {
      "cell_type": "code",
      "source": [
        "records=[]\n",
        "for seq in genome.features:\n",
        "    if seq.type=='rRNA' and ('5S' in seq.qualifiers['product'][0] or '16S' in seq.qualifiers['product'][0] or '23S' in seq.qualifiers['product'][0]):\n",
        "        records.append(SeqRecord(seq.extract(genome.seq)))\n",
        "        records[-1].description = seq.qualifiers['product'][0]\n",
        "        records[-1].id = seq.qualifiers['locus_tag'][0]\n",
        "\n",
        "SeqIO.write(records, \"rRNA.fasta\", \"fasta\")"
      ],
      "metadata": {
        "id": "w5TP_vf7ucVF",
        "outputId": "51f1de11-e2c6-42e9-b6a6-adbd94b4827a",
        "colab": {
          "base_uri": "https://localhost:8080/"
        }
      },
      "execution_count": null,
      "outputs": [
        {
          "output_type": "execute_result",
          "data": {
            "text/plain": [
              "12"
            ]
          },
          "metadata": {},
          "execution_count": 15
        }
      ]
    },
    {
      "cell_type": "code",
      "source": [
        "!head -n 40 rRNA.fasta"
      ],
      "metadata": {
        "id": "2AsOmpdJv-rH",
        "outputId": "a0d65854-c31f-45d6-abe1-e4dfa0fea876",
        "colab": {
          "base_uri": "https://localhost:8080/"
        }
      },
      "execution_count": null,
      "outputs": [
        {
          "output_type": "stream",
          "name": "stdout",
          "text": [
            ">TOL_0319 16S ribosomal RNA\n",
            "AAACTGAAGAGTTTGATCATGGCTCAGATTGAACGCTGGCGGCAGGCTTAACACATGCAA\n",
            "GTCGAGCGGTAGCACAGAGAGCTTGCTCTTGGGTGACAAGCGGCGGACGGGTGAGTAACG\n",
            "CGTAGGAATCTACCTAGTAGTGGGGGACAACAGTTGGAAACGACTGCTAATACCGCATAC\n",
            "GCCCTAAGGGGGAAAGCGGGGGATCTTCGGACCTCGTGCTATTAGATGAGCCTGCGTGAG\n",
            "ATTAGCTAGTTGGTGAGGTAAAGGCTCACCAAGGCGACGATCTCTAGCTGGTCTGAGAGG\n",
            "ATGATCAGCCACACTGGGACTGAGACACGGCCCAGACTCCTACGGGAGGCAGCAGTGGGG\n",
            "AATATTGGACAATGGGCGCAAGCCTGATCCAGCCATGCCGCGTGTGTGAAGAAGGCCTTC\n",
            "GGGTTGTAAAGCACTTTCAGAAGGGAGGAAAGGTTGTGTGTTAATAGCACATAGCTGTGA\n",
            "CGTTACCTTCAGAAGAAGCACCGGCTAACTCCGTGCCAGCAGCCGCGGTAATACGGAGGG\n",
            "TGCAAGCGTTAATCGGAATTACTGGGCGTAAAGCGCGCGTAGGTTGTTTGTTAAGCGAGA\n",
            "TGTGAAAGCCCCGGGCTTAACCTGGGAACTGCATTTCGAACTGGCAAGCTAGAGTACAGT\n",
            "AGAGGGTAGTGGAATTTCCTGTGTAGCGGTGAAATGCGTAGAGATGGGAAGGAACATCAG\n",
            "TGGCGAAGGCGACTGCCTGGACTGATACTGACACTGAGGTGCGAAAGCGTGGGGAGCAAA\n",
            "CAGGATTAGATACCCTGGTAGTCCACGCCGTAAACGATGTCTACTAGTTGTCGGGAGACT\n",
            "TGATCTCTTGGTAACGAAGCTAACGCGATAAGTAGACCGCCTGGGGAGTACGGCCGCAAG\n",
            "GTTAAAACTCAAATGAATTGACGGGGGCCCGCACAAGCGGTGGAGCATGTGGTTTAATTC\n",
            "GAAGCAACGCGAAGAACCTTACCTACTCTTGACATCCAGTGAACTTAGCAGAGATGCTTT\n",
            "GGTGCCTTCGGGAACACTGAGACAGGTGCTGCATGGCTGTCGTCAGCTCGTGTTGTGAAA\n",
            "TGTTGGGTTAAGTCCCGTAACGAGCGCAACCCTTGTCCTTAGTTACCATCATTAAGTTGG\n",
            "GGACTCTAAGGAGACTGCCGGTGACAAACCGGAGGAAGGCGGGGACGACGTCAAGTCATC\n",
            "ATGGCCCTTACGAGTAGGGCTACACACGTGCTACAATGGCCAGTACAGAGGGTTGCAATA\n",
            "CCGCGAGGTGGAGCTAATCCCACAAAGCTGGTCGTAGTCCGGATTGGAGTCTGCAACTCG\n",
            "ACTCCATGAAGTCGGAATCGCTAGTAATCGTGAATCAGAATGTCACGGTGAATACGTTCC\n",
            "CGGGCCTTGTACACACCGCCCGTCACACCATGGGAGTGGGTTGCTCCAGAAGTAGATAGC\n",
            "CTAACCTTCGGGAGGGCGTTTACCACGGAGTGATTCATGACTGGGGTGAAGTCGTAACAA\n",
            "GGTAGCCCTAGGGGAACCTGGGGCTGGATCACCTCCTTA\n",
            ">TOL_0322 23S ribosomal RNA\n",
            "TCAAGTGACTAAGCGTGCACGGTGGATGCCTTGGCATCTGGAGGCGATGAAAGACGTAGT\n",
            "AGCCTGCGATAAGCTTCGGGGAGGTGGCAAACAACCTTTGATCCGGAGATCTCTGAATGG\n",
            "GGAAACCCACCTGTCATAAGGCAGGTATCGTATACTGAATACATAGGTATACGAGGCGAA\n",
            "CGCGGAGAACTGAAACATCTAAGTACCCGCAGGAAAAGAAATCAACCGAGATTCCCTTAG\n",
            "TAGTGGCGAGCGAACGGGGACCAGCCCTTAAGCTGTTTTGTAGTTAGTAGAACGCTCTGG\n",
            "AAAGTGCGACCGTAGTGGGTGATAGTCCCGTATACGAAAACTTATAAGCAGTGAAAACGA\n",
            "GTAGGTCGGGACACGTGTTATCCTGACTGAATATGGGGGGACCATCCTCCAAGGCTAAAT\n",
            "ACTCCCAGATGACCGATAGTGAACTAGTACCGTGAGGGAAAGGCGAAAAGAACCCCTGTG\n",
            "AGGGGAGTGAAATAGATCCTGAAACCGTGTACGTACAAGCAGTGGGAGCCGACTTAGTTC\n",
            "GGTGACTGCGTACCTTTTGTATAATGGGTCAGCGACTTAATGTTAGTGGCAAGGTTAAGC\n",
            "GAATAGCGGAGCCGTAGGGAAACCGAGTGTTAACTGCGCGTCCAGTCGCTAGCATTAGAC\n",
            "CCGAAACCGGGCGATCTATCCATGAGCAGGTTGAAGGTTGAGTAACATCAACTGGAGGAC\n"
          ]
        }
      ]
    },
    {
      "cell_type": "code",
      "source": [
        "!wget https://raw.githubusercontent.com/Katmalu/hse22_hw1/main/Data/scaffold.fa"
      ],
      "metadata": {
        "id": "cML0DX1bwIHk",
        "outputId": "5434fb1f-0a89-4e78-aa0a-0e5391dff15f",
        "colab": {
          "base_uri": "https://localhost:8080/"
        }
      },
      "execution_count": null,
      "outputs": [
        {
          "output_type": "stream",
          "name": "stdout",
          "text": [
            "--2022-10-23 16:52:45--  https://raw.githubusercontent.com/Katmalu/hse22_hw1/main/Data/scaffold.fa\n",
            "Resolving raw.githubusercontent.com (raw.githubusercontent.com)... 185.199.108.133, 185.199.109.133, 185.199.110.133, ...\n",
            "Connecting to raw.githubusercontent.com (raw.githubusercontent.com)|185.199.108.133|:443... connected.\n",
            "HTTP request sent, awaiting response... 200 OK\n",
            "Length: 3967033 (3.8M) [text/plain]\n",
            "Saving to: ‘scaffold.fa’\n",
            "\n",
            "scaffold.fa         100%[===================>]   3.78M  --.-KB/s    in 0.01s   \n",
            "\n",
            "2022-10-23 16:52:45 (255 MB/s) - ‘scaffold.fa’ saved [3967033/3967033]\n",
            "\n"
          ]
        }
      ]
    },
    {
      "cell_type": "code",
      "source": [
        "!blastn -query rRNA.fasta -subject scaffold.fa > alignment.gbk"
      ],
      "metadata": {
        "id": "fng793_WepS2"
      },
      "execution_count": null,
      "outputs": []
    },
    {
      "cell_type": "code",
      "source": [
        "!head -n 40 alignment.gbk"
      ],
      "metadata": {
        "id": "Ug-hiVh1xL3-",
        "outputId": "a6dd63bf-5e83-4deb-b674-0b2c19c14c25",
        "colab": {
          "base_uri": "https://localhost:8080/"
        }
      },
      "execution_count": null,
      "outputs": [
        {
          "output_type": "stream",
          "name": "stdout",
          "text": [
            "BLASTN 2.6.0+\n",
            "\n",
            "\n",
            "Reference: Zheng Zhang, Scott Schwartz, Lukas Wagner, and Webb\n",
            "Miller (2000), \"A greedy algorithm for aligning DNA sequences\", J\n",
            "Comput Biol 2000; 7(1-2):203-14.\n",
            "\n",
            "\n",
            "\n",
            "Database: User specified sequence set (Input: scaffold.fa).\n",
            "           71 sequences; 3,916,681 total letters\n",
            "\n",
            "\n",
            "\n",
            "Query= TOL_0319 16S ribosomal RNA\n",
            "\n",
            "Length=1539\n",
            "                                                                      Score     E\n",
            "Sequences producing significant alignments:                          (Bits)  Value\n",
            "\n",
            "  scaffold1_cov232                                                    2837    0.0  \n",
            "  scaffold32_cov581                                                   2584    0.0  \n",
            "\n",
            "\n",
            "> scaffold1_cov232\n",
            "Length=3872164\n",
            "\n",
            " Score = 2837 bits (1536),  Expect = 0.0\n",
            " Identities = 1538/1539 (99%), Gaps = 0/1539 (0%)\n",
            " Strand=Plus/Plus\n",
            "\n",
            "Query  1        AAACTGAAGAGTTTGATCATGGCTCAGATTGAACGCTGGCGGCAGGCTTAACACATGCAA  60\n",
            "                ||||||||||||||||||||||||||||||||||||||||||||||||||||||||||||\n",
            "Sbjct  1669201  AAACTGAAGAGTTTGATCATGGCTCAGATTGAACGCTGGCGGCAGGCTTAACACATGCAA  1669260\n",
            "\n",
            "Query  61       GTCGAGCGGTAGCACAGAGAGCTTGCTCTTGGGTGACAAGCGGCGGACGGGTGAGTAACG  120\n",
            "                ||||||||||||||||||||||||||||| ||||||||||||||||||||||||||||||\n",
            "Sbjct  1669261  GTCGAGCGGTAGCACAGAGAGCTTGCTCTCGGGTGACAAGCGGCGGACGGGTGAGTAACG  1669320\n",
            "\n",
            "Query  121      CGTAGGAATCTACCTAGTAGTGGGGGACAACAGTTGGAAACGACTGCTAATACCGCATAC  180\n"
          ]
        }
      ]
    },
    {
      "cell_type": "code",
      "source": [
        "f = open('alignment.gbk', 'r')\n",
        "Query = 0\n",
        "scaffold = 0\n",
        "for line in f:\n",
        "  if \"Query=\" in line:\n",
        "    Query = line[7:-1]\n",
        "    print(f\"\\nрРНК: {Query}\")   \n",
        "  elif \">\" in line:\n",
        "    scaffold = line[2:-1]\n",
        "  elif \"Identities = \" in line:\n",
        "    a = line.split(\"(\")\n",
        "    b = a[1].split(\")\")\n",
        "    print(f\"скаффолд: {scaffold}   процент сходства: {b[0]}\")"
      ],
      "metadata": {
        "id": "IPkRGk85xcSq",
        "outputId": "4fa55883-2586-418b-95be-f3a2a03e17c2",
        "colab": {
          "base_uri": "https://localhost:8080/"
        }
      },
      "execution_count": null,
      "outputs": [
        {
          "output_type": "stream",
          "name": "stdout",
          "text": [
            "\n",
            "рРНК: TOL_0319 16S ribosomal RNA\n",
            "скаффолд: scaffold1_cov232   процент сходства: 99%\n",
            "скаффолд: scaffold32_cov581   процент сходства: 100%\n",
            "\n",
            "рРНК: TOL_0322 23S ribosomal RNA\n",
            "скаффолд: scaffold1_cov232   процент сходства: 99%\n",
            "скаффолд: scaffold36_cov581   процент сходства: 100%\n",
            "скаффолд: scaffold42_cov590   процент сходства: 100%\n",
            "скаффолд: scaffold50_cov640   процент сходства: 100%\n",
            "\n",
            "рРНК: TOL_0323 5S ribosomal RNA\n",
            "скаффолд: scaffold1_cov232   процент сходства: 100%\n",
            "скаффолд: scaffold1_cov232   процент сходства: 100%\n",
            "скаффолд: scaffold1_cov232   процент сходства: 100%\n",
            "скаффолд: scaffold36_cov581   процент сходства: 100%\n",
            "\n",
            "рРНК: TOL_2453 5S ribosomal RNA\n",
            "скаффолд: scaffold1_cov232   процент сходства: 98%\n",
            "скаффолд: scaffold36_cov581   процент сходства: 99%\n",
            "\n",
            "рРНК: TOL_2454 23S ribosomal RNA\n",
            "скаффолд: scaffold1_cov232   процент сходства: 99%\n",
            "скаффолд: scaffold36_cov581   процент сходства: 100%\n",
            "скаффолд: scaffold42_cov590   процент сходства: 100%\n",
            "скаффолд: scaffold50_cov640   процент сходства: 100%\n",
            "\n",
            "рРНК: TOL_2455 16S ribosomal RNA\n",
            "скаффолд: scaffold1_cov232   процент сходства: 99%\n",
            "скаффолд: scaffold32_cov581   процент сходства: 99%\n",
            "\n",
            "рРНК: TOL_3250 5S ribosomal RNA\n",
            "скаффолд: scaffold1_cov232   процент сходства: 100%\n",
            "скаффолд: scaffold1_cov232   процент сходства: 100%\n",
            "скаффолд: scaffold1_cov232   процент сходства: 100%\n",
            "скаффолд: scaffold36_cov581   процент сходства: 100%\n",
            "\n",
            "рРНК: TOL_3251 23S ribosomal RNA\n",
            "скаффолд: scaffold1_cov232   процент сходства: 99%\n",
            "скаффолд: scaffold36_cov581   процент сходства: 100%\n",
            "скаффолд: scaffold42_cov590   процент сходства: 100%\n",
            "скаффолд: scaffold50_cov640   процент сходства: 100%\n",
            "\n",
            "рРНК: TOL_3252 16S ribosomal RNA\n",
            "скаффолд: scaffold1_cov232   процент сходства: 99%\n",
            "скаффолд: scaffold32_cov581   процент сходства: 99%\n",
            "\n",
            "рРНК: TOL_3253 5S ribosomal RNA\n",
            "скаффолд: scaffold1_cov232   процент сходства: 100%\n",
            "скаффолд: scaffold1_cov232   процент сходства: 100%\n",
            "скаффолд: scaffold1_cov232   процент сходства: 100%\n",
            "скаффолд: scaffold36_cov581   процент сходства: 100%\n",
            "\n",
            "рРНК: TOL_3254 23S ribosomal RNA\n",
            "скаффолд: scaffold1_cov232   процент сходства: 99%\n",
            "скаффолд: scaffold36_cov581   процент сходства: 100%\n",
            "скаффолд: scaffold42_cov590   процент сходства: 100%\n",
            "скаффолд: scaffold50_cov640   процент сходства: 100%\n",
            "\n",
            "рРНК: TOL_3255 16S ribosomal RNA\n",
            "скаффолд: scaffold1_cov232   процент сходства: 99%\n",
            "скаффолд: scaffold32_cov581   процент сходства: 99%\n"
          ]
        }
      ]
    }
  ]
}